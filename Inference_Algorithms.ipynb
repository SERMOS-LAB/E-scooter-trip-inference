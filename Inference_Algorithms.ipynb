{
 "cells": [
  {
   "cell_type": "code",
   "execution_count": 1,
   "metadata": {
    "ExecuteTime": {
     "end_time": "2022-03-10T03:11:15.989637Z",
     "start_time": "2022-03-10T03:11:15.343629Z"
    }
   },
   "outputs": [],
   "source": [
    "import os\n",
    "import pandas as pd\n",
    "import json\n",
    "import numpy as np\n",
    "from pyproj import Proj, transform\n",
    "import warnings\n",
    "import math\n",
    "import matplotlib.pyplot as plt\n",
    "import warnings\n",
    "warnings.filterwarnings('ignore')"
   ]
  },
  {
   "cell_type": "code",
   "execution_count": 2,
   "metadata": {
    "ExecuteTime": {
     "end_time": "2022-03-10T03:11:16.005619Z",
     "start_time": "2022-03-10T03:11:15.990598Z"
    }
   },
   "outputs": [],
   "source": [
    "def covert_coordinate_from_4326_to_DC(lat,lon):\n",
    "    inProj = Proj(init='epsg:4326')\n",
    "    outProj = Proj(init='epsg:26985')\n",
    "    lon2, lat2 = transform(inProj, outProj, lon, lat)\n",
    "    return (lat2, lon2)\n",
    "\n",
    "def cal_dist(ori_lat,ori_lon,des_lat,des_lon):\n",
    "    lat1, lon1 = covert_coordinate_from_4326_to_DC(ori_lat.values,ori_lon.values)\n",
    "    lat2, lon2 = covert_coordinate_from_4326_to_DC(des_lat.values,des_lon.values)\n",
    "    distance = np.sqrt((lat1-lat2)**2+(lon1-lon2)**2)\n",
    "    return distance"
   ]
  },
  {
   "cell_type": "markdown",
   "metadata": {},
   "source": [
    "### Algorithm 1: Static Vehicle ID"
   ]
  },
  {
   "cell_type": "code",
   "execution_count": 3,
   "metadata": {
    "ExecuteTime": {
     "end_time": "2022-03-10T03:11:17.446967Z",
     "start_time": "2022-03-10T03:11:17.424645Z"
    }
   },
   "outputs": [],
   "source": [
    "def algo_1(scooter):\n",
    "    scooter[\"time_code\"]=pd.to_numeric(scooter[\"hour\"]).astype('Int64')*60+pd.to_numeric(scooter[\"minute\"]).astype('Int64')\n",
    "    scooter=scooter.sort_values(by=\"time_code\")\n",
    "    duration=scooter[\"time_code\"][1:].values-scooter[\"time_code\"][:-1].values\n",
    "    index=duration>1 # duration threshold\n",
    "    if sum(index)<1:\n",
    "        return pd.DataFrame()\n",
    "    index_Ori=np.append(index,[False])\n",
    "    index_Des=np.append([False],index)\n",
    "    Ori=scooter[:][index_Ori]\n",
    "    Des=scooter[:][index_Des]\n",
    "        \n",
    "    Ori.reset_index(inplace=True)\n",
    "    Des.reset_index(inplace=True)\n",
    "    OD=pd.merge(Ori,Des,left_index=True,right_index=True,suffixes=('_Ori','_Des'))\n",
    "    OD[\"Duration\"]=OD['time_code_Des']-OD['time_code_Ori']\n",
    "    OD[\"Distance\"]=cal_dist(OD[\"lat_Ori\"],OD[\"lon_Ori\"],OD[\"lat_Des\"],OD[\"lon_Des\"])\n",
    "    OD.drop(columns=[\"index_Ori\",\"index_Des\",\"ID_Des\",\"time_code_Ori\",\"time_code_Des\"],inplace=True)\n",
    "    OD.rename(columns={'ID_Ori':'ID'},inplace=True)\n",
    "    return OD"
   ]
  },
  {
   "cell_type": "markdown",
   "metadata": {
    "ExecuteTime": {
     "end_time": "2022-03-10T02:08:25.231605Z",
     "start_time": "2022-03-10T02:08:25.229575Z"
    }
   },
   "source": [
    "### Algorithm 2: Resetting Vehicle ID"
   ]
  },
  {
   "cell_type": "code",
   "execution_count": 4,
   "metadata": {
    "ExecuteTime": {
     "end_time": "2022-03-10T03:11:18.382723Z",
     "start_time": "2022-03-10T03:11:18.365769Z"
    }
   },
   "outputs": [],
   "source": [
    "def algo_2(scooter):\n",
    "    id_list=scooter[\"ID\"].unique()\n",
    "    ori=pd.DataFrame()\n",
    "    des=pd.DataFrame()\n",
    "    scooter[\"time_code\"]=pd.to_numeric(scooter[\"hour\"]).astype('Int64')*60+pd.to_numeric(scooter[\"minute\"]).astype('Int64')\n",
    "    scooter=scooter.sort_values(by=\"time_code\")\n",
    "    for i in id_list:\n",
    "        myscooter = scooter[:][scooter[\"ID\"]==i]\n",
    "        o=myscooter.iloc[-1,:]\n",
    "        d=myscooter.iloc[0,:]\n",
    "        ori=ori.append(o)\n",
    "        des=des.append(d)\n",
    "    \n",
    "    return ori, des"
   ]
  },
  {
   "cell_type": "markdown",
   "metadata": {},
   "source": [
    "### Algorithm 3: Dynamic Vehicle ID"
   ]
  },
  {
   "cell_type": "code",
   "execution_count": 5,
   "metadata": {
    "ExecuteTime": {
     "end_time": "2022-03-10T03:11:19.298598Z",
     "start_time": "2022-03-10T03:11:19.275801Z"
    }
   },
   "outputs": [],
   "source": [
    "def find_min_idx(x):\n",
    "    # return (index,col)\n",
    "    k = x.argmin()\n",
    "    ncol = x.shape[1]\n",
    "    return int(k/ncol), k%ncol\n",
    "\n",
    "def covert_coordinate_from_DC_to_4326(lat,lon):\n",
    "    outProj = Proj(init='epsg:4326')\n",
    "    inProj = Proj(init='epsg:26985')\n",
    "    lon2, lat2 = transform(inProj, outProj, lon, lat)\n",
    "    return (lat2, lon2)\n",
    "\n",
    "def distance_4326(d):\n",
    "    lat1, lon1 = covert_coordinate_from_DC_to_4326(136906,396529)\n",
    "    lat2, lon2 = covert_coordinate_from_DC_to_4326(136906+d,396529)\n",
    "    distance = np.sqrt((lat1-lat2)**2+(lon1-lon2)**2)\n",
    "    return distance\n",
    "\n",
    "def pair(mat_dis,d_max):\n",
    "    # points to be excluded, return [pool1 index, pool2 index]\n",
    "    output=pd.DataFrame(columns=['pool1','pool2'])\n",
    "    while mat_dis.min()<d_max:\n",
    "        p2,p1=find_min_idx(mat_dis)\n",
    "        output=output.append(pd.DataFrame([[p1,p2]],columns=['pool1','pool2']),ignore_index=True)\n",
    "        #print([p1,p2])\n",
    "        mat_dis[p2,:]=np.inf\n",
    "        mat_dis[:,p1]=np.inf\n",
    "    return output\n",
    "\n",
    "def find_OD(pool1,pool2,d_threshold):\n",
    "    # pool1:t; \n",
    "    # pool2:t+1; \n",
    "    # d_threshold (meter) distance threshold to identify the same scooter.\n",
    "    d_max=distance_4326(d_threshold)  #transfer to Latitude and longitude coordinates.\n",
    "    ori=pd.DataFrame()\n",
    "    des=pd.DataFrame()\n",
    "    \n",
    "    if (len(pool1)+len(pool2))==0:\n",
    "        return ori,des\n",
    "    \n",
    "    if len(pool1)*len(pool2)>0:\n",
    "        x1=pool1['lat_x'].values\n",
    "        y1=pool1['lon_x'].values\n",
    "        x2=pool2['lat_y'].values\n",
    "        y2=pool2['lon_y'].values\n",
    "        m=len(x1)\n",
    "        n=len(x2)\n",
    "        mat_x1=np.tile(x1,(n,1))\n",
    "        mat_y1=np.tile(y1,(n,1))\n",
    "        mat_x2=np.transpose(np.tile(x2,(m,1)))\n",
    "        mat_y2=np.transpose(np.tile(y2,(m,1)))\n",
    "        mat_dis=np.sqrt(np.power(mat_x1-mat_x2,2)+np.power(mat_y1-mat_y2,2))\n",
    "        pairs=pair(mat_dis,d_max)\n",
    "        ori=pool1.reset_index().drop(pairs['pool1'].values)\n",
    "        des=pool2.reset_index().drop(pairs['pool2'].values)\n",
    "    \n",
    "    if len(pool1)*len(pool2)==0:\n",
    "        ori=pool1\n",
    "        des=pool2\n",
    "    \n",
    "    ori=ori[['ID','hour_x','lat_x','lon_x','minute_x','second_x']]\n",
    "    ori=ori.rename(columns={\"hour_x\": \"hour\", \"lat_x\": \"lat\", \"lon_x\":\"lon\", \"minute_x\":\"minute\", \"second_x\":\"second\"})\n",
    "    des=des[['ID','hour_y','lat_y','lon_y','minute_y','second_y']]\n",
    "    des=des.rename(columns={\"hour_y\": \"hour\", \"lat_y\": \"lat\", \"lon_y\":\"lon\", \"minute_y\":\"minute\", \"second_y\":\"second\"})\n",
    "    return ori,des\n",
    "\n",
    "def algo_3(data,d_threshold=100):\n",
    "    pool1=pd.DataFrame() #pool for t\n",
    "    pool2=pd.DataFrame() #pool for t+1\n",
    "    ori=pd.DataFrame()\n",
    "    des=pd.DataFrame()\n",
    "    data['time']=data['day']*24*60+data['hour']*60+data['minute']\n",
    "    time_list=np.sort(np.unique(data['time']))\n",
    "    for i in range(len(time_list)-1):\n",
    "        t0=data[:][data['time']==time_list[i]]\n",
    "        t1=data[:][data['time']==time_list[i+1]]\n",
    "        df0=pd.merge(t0,t1,on='ID',how='outer')\n",
    "        if len(df0)<1:\n",
    "            continue\n",
    "        pool1=df0[:][np.isnan(df0['hour_y'])]\n",
    "        pool2=df0[:][np.isnan(df0['hour_x'])]\n",
    "        o,d=find_OD(pool1,pool2,d_threshold)\n",
    "        ori=ori.append(o)\n",
    "        des=des.append(d)\n",
    "        if i%500==0:\n",
    "            print(str(i)+' done...')\n",
    "    return ori,des\n"
   ]
  },
  {
   "cell_type": "markdown",
   "metadata": {},
   "source": [
    "### Demos"
   ]
  },
  {
   "cell_type": "markdown",
   "metadata": {},
   "source": [
    "#### Algorithm 1"
   ]
  },
  {
   "cell_type": "code",
   "execution_count": 6,
   "metadata": {
    "ExecuteTime": {
     "end_time": "2022-03-10T03:11:20.722035Z",
     "start_time": "2022-03-10T03:11:20.702054Z"
    }
   },
   "outputs": [],
   "source": [
    "scooter_1 = pd.read_csv('Demo_Data_Static.csv')"
   ]
  },
  {
   "cell_type": "code",
   "execution_count": 7,
   "metadata": {
    "ExecuteTime": {
     "end_time": "2022-03-10T03:11:21.226537Z",
     "start_time": "2022-03-10T03:11:21.171682Z"
    }
   },
   "outputs": [
    {
     "data": {
      "text/html": [
       "<div>\n",
       "<style scoped>\n",
       "    .dataframe tbody tr th:only-of-type {\n",
       "        vertical-align: middle;\n",
       "    }\n",
       "\n",
       "    .dataframe tbody tr th {\n",
       "        vertical-align: top;\n",
       "    }\n",
       "\n",
       "    .dataframe thead th {\n",
       "        text-align: right;\n",
       "    }\n",
       "</style>\n",
       "<table border=\"1\" class=\"dataframe\">\n",
       "  <thead>\n",
       "    <tr style=\"text-align: right;\">\n",
       "      <th></th>\n",
       "      <th>ID</th>\n",
       "      <th>hour_Ori</th>\n",
       "      <th>lat_Ori</th>\n",
       "      <th>lon_Ori</th>\n",
       "      <th>minute_Ori</th>\n",
       "      <th>second_Ori</th>\n",
       "      <th>day_Ori</th>\n",
       "      <th>hour_Des</th>\n",
       "      <th>lat_Des</th>\n",
       "      <th>lon_Des</th>\n",
       "      <th>minute_Des</th>\n",
       "      <th>second_Des</th>\n",
       "      <th>day_Des</th>\n",
       "      <th>Duration</th>\n",
       "      <th>Distance</th>\n",
       "    </tr>\n",
       "  </thead>\n",
       "  <tbody>\n",
       "    <tr>\n",
       "      <th>0</th>\n",
       "      <td>11111</td>\n",
       "      <td>8</td>\n",
       "      <td>38.90226</td>\n",
       "      <td>-77.05917</td>\n",
       "      <td>15</td>\n",
       "      <td>0</td>\n",
       "      <td>1</td>\n",
       "      <td>9</td>\n",
       "      <td>38.95893</td>\n",
       "      <td>-77.00287</td>\n",
       "      <td>5</td>\n",
       "      <td>0</td>\n",
       "      <td>1</td>\n",
       "      <td>50</td>\n",
       "      <td>7962.712205</td>\n",
       "    </tr>\n",
       "  </tbody>\n",
       "</table>\n",
       "</div>"
      ],
      "text/plain": [
       "      ID  hour_Ori   lat_Ori   lon_Ori  minute_Ori  second_Ori  day_Ori  \\\n",
       "0  11111         8  38.90226 -77.05917          15           0        1   \n",
       "\n",
       "   hour_Des   lat_Des   lon_Des  minute_Des  second_Des  day_Des  Duration  \\\n",
       "0         9  38.95893 -77.00287           5           0        1        50   \n",
       "\n",
       "      Distance  \n",
       "0  7962.712205  "
      ]
     },
     "execution_count": 7,
     "metadata": {},
     "output_type": "execute_result"
    }
   ],
   "source": [
    "OD = algo_1(scooter_1)\n",
    "OD"
   ]
  },
  {
   "cell_type": "markdown",
   "metadata": {},
   "source": [
    "#### Algorithm 2"
   ]
  },
  {
   "cell_type": "code",
   "execution_count": 8,
   "metadata": {
    "ExecuteTime": {
     "end_time": "2022-03-10T03:11:22.203331Z",
     "start_time": "2022-03-10T03:11:22.189031Z"
    }
   },
   "outputs": [],
   "source": [
    "scooter_2 = pd.read_csv('Demo_Data_Resetting.csv')"
   ]
  },
  {
   "cell_type": "code",
   "execution_count": 9,
   "metadata": {
    "ExecuteTime": {
     "end_time": "2022-03-10T03:11:22.630281Z",
     "start_time": "2022-03-10T03:11:22.582693Z"
    }
   },
   "outputs": [],
   "source": [
    "ori, des = algo_2(scooter_2)"
   ]
  },
  {
   "cell_type": "code",
   "execution_count": 10,
   "metadata": {
    "ExecuteTime": {
     "end_time": "2022-03-10T03:11:23.182671Z",
     "start_time": "2022-03-10T03:11:23.164667Z"
    }
   },
   "outputs": [
    {
     "data": {
      "text/html": [
       "<div>\n",
       "<style scoped>\n",
       "    .dataframe tbody tr th:only-of-type {\n",
       "        vertical-align: middle;\n",
       "    }\n",
       "\n",
       "    .dataframe tbody tr th {\n",
       "        vertical-align: top;\n",
       "    }\n",
       "\n",
       "    .dataframe thead th {\n",
       "        text-align: right;\n",
       "    }\n",
       "</style>\n",
       "<table border=\"1\" class=\"dataframe\">\n",
       "  <thead>\n",
       "    <tr style=\"text-align: right;\">\n",
       "      <th></th>\n",
       "      <th>ID</th>\n",
       "      <th>day</th>\n",
       "      <th>hour</th>\n",
       "      <th>lat</th>\n",
       "      <th>lon</th>\n",
       "      <th>minute</th>\n",
       "      <th>second</th>\n",
       "      <th>time_code</th>\n",
       "    </tr>\n",
       "  </thead>\n",
       "  <tbody>\n",
       "    <tr>\n",
       "      <th>10</th>\n",
       "      <td>11111.0</td>\n",
       "      <td>1.0</td>\n",
       "      <td>8.0</td>\n",
       "      <td>38.90226</td>\n",
       "      <td>-77.05917</td>\n",
       "      <td>15.0</td>\n",
       "      <td>0.0</td>\n",
       "      <td>495.0</td>\n",
       "    </tr>\n",
       "    <tr>\n",
       "      <th>33</th>\n",
       "      <td>22222.0</td>\n",
       "      <td>1.0</td>\n",
       "      <td>9.0</td>\n",
       "      <td>38.95893</td>\n",
       "      <td>-77.00287</td>\n",
       "      <td>27.0</td>\n",
       "      <td>0.0</td>\n",
       "      <td>567.0</td>\n",
       "    </tr>\n",
       "  </tbody>\n",
       "</table>\n",
       "</div>"
      ],
      "text/plain": [
       "         ID  day  hour       lat       lon  minute  second  time_code\n",
       "10  11111.0  1.0   8.0  38.90226 -77.05917    15.0     0.0      495.0\n",
       "33  22222.0  1.0   9.0  38.95893 -77.00287    27.0     0.0      567.0"
      ]
     },
     "execution_count": 10,
     "metadata": {},
     "output_type": "execute_result"
    }
   ],
   "source": [
    "ori"
   ]
  },
  {
   "cell_type": "code",
   "execution_count": 11,
   "metadata": {
    "ExecuteTime": {
     "end_time": "2022-03-10T03:11:23.796890Z",
     "start_time": "2022-03-10T03:11:23.788294Z"
    }
   },
   "outputs": [
    {
     "data": {
      "text/html": [
       "<div>\n",
       "<style scoped>\n",
       "    .dataframe tbody tr th:only-of-type {\n",
       "        vertical-align: middle;\n",
       "    }\n",
       "\n",
       "    .dataframe tbody tr th {\n",
       "        vertical-align: top;\n",
       "    }\n",
       "\n",
       "    .dataframe thead th {\n",
       "        text-align: right;\n",
       "    }\n",
       "</style>\n",
       "<table border=\"1\" class=\"dataframe\">\n",
       "  <thead>\n",
       "    <tr style=\"text-align: right;\">\n",
       "      <th></th>\n",
       "      <th>ID</th>\n",
       "      <th>day</th>\n",
       "      <th>hour</th>\n",
       "      <th>lat</th>\n",
       "      <th>lon</th>\n",
       "      <th>minute</th>\n",
       "      <th>second</th>\n",
       "      <th>time_code</th>\n",
       "    </tr>\n",
       "  </thead>\n",
       "  <tbody>\n",
       "    <tr>\n",
       "      <th>0</th>\n",
       "      <td>11111.0</td>\n",
       "      <td>1.0</td>\n",
       "      <td>8.0</td>\n",
       "      <td>38.90226</td>\n",
       "      <td>-77.05917</td>\n",
       "      <td>5.0</td>\n",
       "      <td>0.0</td>\n",
       "      <td>485.0</td>\n",
       "    </tr>\n",
       "    <tr>\n",
       "      <th>11</th>\n",
       "      <td>22222.0</td>\n",
       "      <td>1.0</td>\n",
       "      <td>9.0</td>\n",
       "      <td>38.95893</td>\n",
       "      <td>-77.00287</td>\n",
       "      <td>5.0</td>\n",
       "      <td>0.0</td>\n",
       "      <td>545.0</td>\n",
       "    </tr>\n",
       "  </tbody>\n",
       "</table>\n",
       "</div>"
      ],
      "text/plain": [
       "         ID  day  hour       lat       lon  minute  second  time_code\n",
       "0   11111.0  1.0   8.0  38.90226 -77.05917     5.0     0.0      485.0\n",
       "11  22222.0  1.0   9.0  38.95893 -77.00287     5.0     0.0      545.0"
      ]
     },
     "execution_count": 11,
     "metadata": {},
     "output_type": "execute_result"
    }
   ],
   "source": [
    "des"
   ]
  },
  {
   "cell_type": "markdown",
   "metadata": {},
   "source": [
    "#### Algorithm 3"
   ]
  },
  {
   "cell_type": "code",
   "execution_count": 12,
   "metadata": {
    "ExecuteTime": {
     "end_time": "2022-03-10T03:11:27.599952Z",
     "start_time": "2022-03-10T03:11:27.580705Z"
    }
   },
   "outputs": [],
   "source": [
    "scooter_3 = pd.read_csv('Demo_Data_Dynamic.csv')"
   ]
  },
  {
   "cell_type": "code",
   "execution_count": 13,
   "metadata": {
    "ExecuteTime": {
     "end_time": "2022-03-10T03:11:29.387141Z",
     "start_time": "2022-03-10T03:11:28.108117Z"
    }
   },
   "outputs": [
    {
     "name": "stdout",
     "output_type": "stream",
     "text": [
      "0 done...\n"
     ]
    }
   ],
   "source": [
    "ori, des = algo_3(scooter_3)"
   ]
  },
  {
   "cell_type": "code",
   "execution_count": 14,
   "metadata": {
    "ExecuteTime": {
     "end_time": "2022-03-10T03:11:30.664191Z",
     "start_time": "2022-03-10T03:11:30.642167Z"
    }
   },
   "outputs": [
    {
     "data": {
      "text/html": [
       "<div>\n",
       "<style scoped>\n",
       "    .dataframe tbody tr th:only-of-type {\n",
       "        vertical-align: middle;\n",
       "    }\n",
       "\n",
       "    .dataframe tbody tr th {\n",
       "        vertical-align: top;\n",
       "    }\n",
       "\n",
       "    .dataframe thead th {\n",
       "        text-align: right;\n",
       "    }\n",
       "</style>\n",
       "<table border=\"1\" class=\"dataframe\">\n",
       "  <thead>\n",
       "    <tr style=\"text-align: right;\">\n",
       "      <th></th>\n",
       "      <th>ID</th>\n",
       "      <th>hour</th>\n",
       "      <th>lat</th>\n",
       "      <th>lon</th>\n",
       "      <th>minute</th>\n",
       "      <th>second</th>\n",
       "    </tr>\n",
       "  </thead>\n",
       "  <tbody>\n",
       "    <tr>\n",
       "      <th>0</th>\n",
       "      <td>22222</td>\n",
       "      <td>8.0</td>\n",
       "      <td>38.90226</td>\n",
       "      <td>-77.05917</td>\n",
       "      <td>15.0</td>\n",
       "      <td>0.0</td>\n",
       "    </tr>\n",
       "  </tbody>\n",
       "</table>\n",
       "</div>"
      ],
      "text/plain": [
       "      ID  hour       lat       lon  minute  second\n",
       "0  22222   8.0  38.90226 -77.05917    15.0     0.0"
      ]
     },
     "execution_count": 14,
     "metadata": {},
     "output_type": "execute_result"
    }
   ],
   "source": [
    "ori"
   ]
  },
  {
   "cell_type": "code",
   "execution_count": 15,
   "metadata": {
    "ExecuteTime": {
     "end_time": "2022-03-10T03:11:31.136995Z",
     "start_time": "2022-03-10T03:11:31.120040Z"
    }
   },
   "outputs": [
    {
     "data": {
      "text/html": [
       "<div>\n",
       "<style scoped>\n",
       "    .dataframe tbody tr th:only-of-type {\n",
       "        vertical-align: middle;\n",
       "    }\n",
       "\n",
       "    .dataframe tbody tr th {\n",
       "        vertical-align: top;\n",
       "    }\n",
       "\n",
       "    .dataframe thead th {\n",
       "        text-align: right;\n",
       "    }\n",
       "</style>\n",
       "<table border=\"1\" class=\"dataframe\">\n",
       "  <thead>\n",
       "    <tr style=\"text-align: right;\">\n",
       "      <th></th>\n",
       "      <th>ID</th>\n",
       "      <th>hour</th>\n",
       "      <th>lat</th>\n",
       "      <th>lon</th>\n",
       "      <th>minute</th>\n",
       "      <th>second</th>\n",
       "    </tr>\n",
       "  </thead>\n",
       "  <tbody>\n",
       "    <tr>\n",
       "      <th>0</th>\n",
       "      <td>33333</td>\n",
       "      <td>9.0</td>\n",
       "      <td>38.95893</td>\n",
       "      <td>-77.00287</td>\n",
       "      <td>5.0</td>\n",
       "      <td>0.0</td>\n",
       "    </tr>\n",
       "  </tbody>\n",
       "</table>\n",
       "</div>"
      ],
      "text/plain": [
       "      ID  hour       lat       lon  minute  second\n",
       "0  33333   9.0  38.95893 -77.00287     5.0     0.0"
      ]
     },
     "execution_count": 15,
     "metadata": {},
     "output_type": "execute_result"
    }
   ],
   "source": [
    "des"
   ]
  }
 ],
 "metadata": {
  "kernelspec": {
   "display_name": "Python 3",
   "language": "python",
   "name": "python3"
  },
  "language_info": {
   "codemirror_mode": {
    "name": "ipython",
    "version": 3
   },
   "file_extension": ".py",
   "mimetype": "text/x-python",
   "name": "python",
   "nbconvert_exporter": "python",
   "pygments_lexer": "ipython3",
   "version": "3.7.4"
  },
  "toc": {
   "base_numbering": 1,
   "nav_menu": {},
   "number_sections": true,
   "sideBar": true,
   "skip_h1_title": false,
   "title_cell": "Table of Contents",
   "title_sidebar": "Contents",
   "toc_cell": false,
   "toc_position": {},
   "toc_section_display": true,
   "toc_window_display": false
  }
 },
 "nbformat": 4,
 "nbformat_minor": 2
}
